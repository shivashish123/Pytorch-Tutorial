{
 "cells": [
  {
   "cell_type": "code",
   "execution_count": 1,
   "metadata": {},
   "outputs": [],
   "source": [
    "import torch\n",
    "import torchvision\n",
    "import torchvision.transforms as transforms \n",
    "\n",
    "torch.set_printoptions(linewidth=120)"
   ]
  },
  {
   "cell_type": "code",
   "execution_count": 2,
   "metadata": {},
   "outputs": [],
   "source": [
    " train_set = torchvision.datasets.FashionMNIST(    # Extract\n",
    "     root = '.data/FashionMNIST',\n",
    "     train = True,\n",
    "     download = True,\n",
    "     transform = transforms.Compose([             # Transform\n",
    "         transforms.ToTensor()\n",
    "     ])\n",
    " )"
   ]
  },
  {
   "cell_type": "code",
   "execution_count": 3,
   "metadata": {},
   "outputs": [],
   "source": [
    "import torch.nn as nn \n",
    "import torch.nn.functional as F\n",
    "\n",
    "class Network(nn.Module):\n",
    "    def __init__(self):\n",
    "        super(Network,self).__init__()\n",
    "        self.conv1 = nn.Conv2d(in_channels=1, out_channels=6, kernel_size=5)\n",
    "        self.conv2 = nn.Conv2d(in_channels=6, out_channels=12, kernel_size=5)\n",
    "        \n",
    "        self.fc1 = nn.Linear(in_features=12*4*4 , out_features=120)\n",
    "        self.fc2 = nn.Linear(in_features=120, out_features=60)\n",
    "        self.out = nn.Linear(in_features=60, out_features=10)\n",
    "        \n",
    "    def forward(self, t):\n",
    "        # (1) input layer\n",
    "        t = t\n",
    "        \n",
    "        # (2) hiddden conv layer\n",
    "        t = self.conv1(t)\n",
    "        t = F.relu(t)\n",
    "        t = F.max_pool2d(t,kernel_size=2,stride=2)\n",
    "        \n",
    "        # (3) hidden conv layer\n",
    "        t = self.conv2(t)\n",
    "        t = F.relu(t)\n",
    "        t = F.max_pool2d(t,kernel_size=2,stride=2)\n",
    "        \n",
    "        # (4) hidden linear layer\n",
    "        t = t.reshape(-1,12*4*4)\n",
    "        t = self.fc1(t)\n",
    "        t = F.relu(t)\n",
    "        \n",
    "        # (5) hidden linear layer\n",
    "        t = self.fc2(t)\n",
    "        t = F.relu(t)\n",
    "        \n",
    "        # (6) output layer\n",
    "        t = self.out(t)\n",
    "        # t = F.softmax(t,dim=1) (since loss is cross_entropy which automatically uses softmax)\n",
    "        \n",
    "        return t"
   ]
  },
  {
   "cell_type": "code",
   "execution_count": 4,
   "metadata": {},
   "outputs": [],
   "source": [
    "network = Network()\n",
    "\n",
    "train_loader = torch.utils.data.DataLoader(train_set, batch_size = 100) #Load\n",
    "all_preds = torch.tensor([])\n",
    "optimizer = torch.optim.Adam(network.parameters(), lr=0.01)\n",
    "\n",
    "for batch in train_loader:\n",
    "    images, labels = batch\n",
    "    preds = network(images)\n",
    "    loss = F.cross_entropy(preds, labels)\n",
    "    \n",
    "    optimizer.zero_grad()\n",
    "    loss.backward()\n",
    "    optimizer.step()\n",
    "    \n",
    "    all_preds = torch.cat((all_preds,preds),dim=0)\n",
    "    "
   ]
  },
  {
   "cell_type": "code",
   "execution_count": 5,
   "metadata": {},
   "outputs": [
    {
     "data": {
      "text/plain": [
       "torch.Size([60000, 10])"
      ]
     },
     "execution_count": 5,
     "metadata": {},
     "output_type": "execute_result"
    }
   ],
   "source": [
    "all_preds.shape"
   ]
  },
  {
   "cell_type": "code",
   "execution_count": 6,
   "metadata": {},
   "outputs": [
    {
     "data": {
      "text/plain": [
       "tensor([6, 6, 6,  ..., 3, 0, 5])"
      ]
     },
     "execution_count": 6,
     "metadata": {},
     "output_type": "execute_result"
    }
   ],
   "source": [
    "all_preds.argmax(dim=1)"
   ]
  },
  {
   "cell_type": "code",
   "execution_count": 7,
   "metadata": {},
   "outputs": [],
   "source": [
    " stacked = torch.stack( (train_set.targets,all_preds.argmax(dim=1)),dim=1 )"
   ]
  },
  {
   "cell_type": "code",
   "execution_count": 8,
   "metadata": {},
   "outputs": [
    {
     "name": "stdout",
     "output_type": "stream",
     "text": [
      "tensor([[9, 6],\n",
      "        [0, 6],\n",
      "        [0, 6],\n",
      "        ...,\n",
      "        [3, 3],\n",
      "        [0, 0],\n",
      "        [5, 5]])\n"
     ]
    }
   ],
   "source": [
    "print(stacked)"
   ]
  },
  {
   "cell_type": "code",
   "execution_count": 9,
   "metadata": {},
   "outputs": [],
   "source": [
    "cnt = torch.zeros((10,10),dtype=torch.int64)\n",
    "for i in stacked:\n",
    "    x,y = i.tolist()\n",
    "    cnt[x][y] += 1 "
   ]
  },
  {
   "cell_type": "code",
   "execution_count": 10,
   "metadata": {},
   "outputs": [
    {
     "name": "stdout",
     "output_type": "stream",
     "text": [
      "tensor([[4740,  116,  146,  401,   43,   17,  448,    1,   87,    1],\n",
      "        [  16, 5548,   17,  323,   33,    6,   51,    0,    6,    0],\n",
      "        [  92,   59, 4010,   80, 1018,   24,  601,    1,  110,    5],\n",
      "        [ 287,  357,   81, 4805,  268,   10,  173,    2,   16,    1],\n",
      "        [  46,   93,  760,  308, 4186,   11,  550,    0,   44,    2],\n",
      "        [   8,    5,    2,   10,    1, 5363,   21,  385,   60,  145],\n",
      "        [1345,   82, 1344,  263, 1039,   31, 1765,    1,  127,    3],\n",
      "        [   8,   14,    0,    0,    0,  435,   21, 5113,   14,  395],\n",
      "        [  45,   49,  102,   37,   44,  120,   99,   18, 5451,   35],\n",
      "        [   6,   29,    2,    5,    0,  161,   22,  293,   14, 5468]])\n"
     ]
    }
   ],
   "source": [
    "print(cnt)"
   ]
  },
  {
   "cell_type": "code",
   "execution_count": 11,
   "metadata": {},
   "outputs": [
    {
     "data": {
      "text/plain": [
       "array([[4740,  116,  146,  401,   43,   17,  448,    1,   87,    1],\n",
       "       [  16, 5548,   17,  323,   33,    6,   51,    0,    6,    0],\n",
       "       [  92,   59, 4010,   80, 1018,   24,  601,    1,  110,    5],\n",
       "       [ 287,  357,   81, 4805,  268,   10,  173,    2,   16,    1],\n",
       "       [  46,   93,  760,  308, 4186,   11,  550,    0,   44,    2],\n",
       "       [   8,    5,    2,   10,    1, 5363,   21,  385,   60,  145],\n",
       "       [1345,   82, 1344,  263, 1039,   31, 1765,    1,  127,    3],\n",
       "       [   8,   14,    0,    0,    0,  435,   21, 5113,   14,  395],\n",
       "       [  45,   49,  102,   37,   44,  120,   99,   18, 5451,   35],\n",
       "       [   6,   29,    2,    5,    0,  161,   22,  293,   14, 5468]])"
      ]
     },
     "execution_count": 11,
     "metadata": {},
     "output_type": "execute_result"
    }
   ],
   "source": [
    "import matplotlib.pyplot as plt\n",
    "from sklearn.metrics import confusion_matrix\n",
    "\n",
    "cm = confusion_matrix(train_set.targets, all_preds.argmax(dim=1))\n",
    "cm"
   ]
  },
  {
   "cell_type": "code",
   "execution_count": null,
   "metadata": {},
   "outputs": [],
   "source": []
  }
 ],
 "metadata": {
  "kernelspec": {
   "display_name": "Python 3",
   "language": "python",
   "name": "python3"
  },
  "language_info": {
   "codemirror_mode": {
    "name": "ipython",
    "version": 3
   },
   "file_extension": ".py",
   "mimetype": "text/x-python",
   "name": "python",
   "nbconvert_exporter": "python",
   "pygments_lexer": "ipython3",
   "version": "3.7.3"
  }
 },
 "nbformat": 4,
 "nbformat_minor": 2
}
